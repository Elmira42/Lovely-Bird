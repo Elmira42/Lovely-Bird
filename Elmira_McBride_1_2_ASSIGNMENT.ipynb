{
  "nbformat": 4,
  "nbformat_minor": 0,
  "metadata": {
    "colab": {
      "name": "Elmira_McBride_1_2 - ASSIGNMENT.ipynb",
      "provenance": [],
      "collapsed_sections": [],
      "include_colab_link": true
    },
    "kernelspec": {
      "name": "python3",
      "display_name": "Python 3"
    }
  },
  "cells": [
    {
      "cell_type": "markdown",
      "metadata": {
        "id": "view-in-github",
        "colab_type": "text"
      },
      "source": [
        "<a href=\"https://colab.research.google.com/github/Elmira42/Lovely-Bird/blob/master/Elmira_McBride_1_2_ASSIGNMENT.ipynb\" target=\"_parent\"><img src=\"https://colab.research.google.com/assets/colab-badge.svg\" alt=\"Open In Colab\"/></a>"
      ]
    },
    {
      "cell_type": "markdown",
      "metadata": {
        "id": "ZvNsvUNNlZbi",
        "colab_type": "text"
      },
      "source": [
        "---\n",
        "# Lambda School Data Science - Intro to Python  \n",
        "---\n",
        "# 02 - Python Variables & Data Types\n",
        "---\n",
        "\n"
      ]
    },
    {
      "cell_type": "markdown",
      "metadata": {
        "id": "y8HUQb0OOztX",
        "colab_type": "text"
      },
      "source": [
        "##STOP! BEFORE GOING ANY FURTHER...  \n",
        "\n",
        "\n",
        "1. Click \"File\" at the top.\n",
        "2. Then, \"Save a Copy in Drive.\"\n",
        "3. Change the file name to \"FIRSTNAME_LASTNAME_1_2\"  \n",
        "\n",
        "Now you have a copy of this notebook in your Drive account. This is the copy you'll edit and submit. Be sure to do this for ***every*** assignment!\n",
        "\n"
      ]
    },
    {
      "cell_type": "markdown",
      "metadata": {
        "id": "o57NvhYkBjKH",
        "colab_type": "text"
      },
      "source": [
        "## Part 1: Variables\n"
      ]
    },
    {
      "cell_type": "markdown",
      "metadata": {
        "id": "4haXpvn1QXW_",
        "colab_type": "text"
      },
      "source": [
        "### 1.1 Create three numerical variables (ints and/or floats) and add them together. At least one of your variables must hold a negative value."
      ]
    },
    {
      "cell_type": "code",
      "metadata": {
        "id": "PweN-CTws2EV",
        "colab_type": "code",
        "outputId": "6c665dd9-edd9-4589-b35c-c5d4f17a1680",
        "colab": {
          "base_uri": "https://localhost:8080/",
          "height": 34
        }
      },
      "source": [
        "1+3"
      ],
      "execution_count": 0,
      "outputs": [
        {
          "output_type": "execute_result",
          "data": {
            "text/plain": [
              "4"
            ]
          },
          "metadata": {
            "tags": []
          },
          "execution_count": 1
        }
      ]
    },
    {
      "cell_type": "code",
      "metadata": {
        "id": "-1rVC_mEUxbz",
        "colab_type": "code",
        "outputId": "40077c44-6a43-4a41-f63b-5af938819ff6",
        "colab": {
          "base_uri": "https://localhost:8080/",
          "height": 34
        }
      },
      "source": [
        "4**.3"
      ],
      "execution_count": 0,
      "outputs": [
        {
          "output_type": "execute_result",
          "data": {
            "text/plain": [
              "1.515716566510398"
            ]
          },
          "metadata": {
            "tags": []
          },
          "execution_count": 3
        }
      ]
    },
    {
      "cell_type": "code",
      "metadata": {
        "id": "rot4OIKyVvlc",
        "colab_type": "code",
        "outputId": "4f81227a-d2ee-45fa-c55d-293ec4e2396d",
        "colab": {
          "base_uri": "https://localhost:8080/",
          "height": 34
        }
      },
      "source": [
        "50-60"
      ],
      "execution_count": 0,
      "outputs": [
        {
          "output_type": "execute_result",
          "data": {
            "text/plain": [
              "-10"
            ]
          },
          "metadata": {
            "tags": []
          },
          "execution_count": 4
        }
      ]
    },
    {
      "cell_type": "markdown",
      "metadata": {
        "id": "QSk1zFf4Qbzk",
        "colab_type": "text"
      },
      "source": [
        "### 1.2 Write a sentence in five parts, assign each part to a variable, then concatenate them all together. Account for spacing!"
      ]
    },
    {
      "cell_type": "code",
      "metadata": {
        "id": "i-d3b4fqQe9z",
        "colab_type": "code",
        "colab": {}
      },
      "source": [
        "r = 'JR will always be'"
      ],
      "execution_count": 0,
      "outputs": []
    },
    {
      "cell_type": "code",
      "metadata": {
        "id": "SMPa6g6XaXKQ",
        "colab_type": "code",
        "colab": {}
      },
      "source": [
        "x = ' the one for'"
      ],
      "execution_count": 0,
      "outputs": []
    },
    {
      "cell_type": "code",
      "metadata": {
        "id": "SG2r2OvFaf0m",
        "colab_type": "code",
        "colab": {}
      },
      "source": [
        "z = ' Me'"
      ],
      "execution_count": 0,
      "outputs": []
    },
    {
      "cell_type": "code",
      "metadata": {
        "id": "6Sk9tndiaoVR",
        "colab_type": "code",
        "colab": {}
      },
      "source": [
        "t = ' until we are '"
      ],
      "execution_count": 0,
      "outputs": []
    },
    {
      "cell_type": "code",
      "metadata": {
        "id": "OMYAqaBQaxof",
        "colab_type": "code",
        "colab": {}
      },
      "source": [
        "k =  103"
      ],
      "execution_count": 0,
      "outputs": []
    },
    {
      "cell_type": "code",
      "metadata": {
        "id": "eymxgXfhbVX-",
        "colab_type": "code",
        "colab": {
          "base_uri": "https://localhost:8080/",
          "height": 34
        },
        "outputId": "45601c27-cc4f-467d-9dbf-ad705fc4380e"
      },
      "source": [
        "r + x + z + t + str (k)"
      ],
      "execution_count": 23,
      "outputs": [
        {
          "output_type": "execute_result",
          "data": {
            "text/plain": [
              "'JR will always be the one for Me until we are 103'"
            ]
          },
          "metadata": {
            "tags": []
          },
          "execution_count": 23
        }
      ]
    },
    {
      "cell_type": "markdown",
      "metadata": {
        "id": "8EYDz3UtQflV",
        "colab_type": "text"
      },
      "source": [
        "### 1.3 We need to calculate Joey's body mass index. Here's the formula for BMI:  \n",
        "\n",
        ">$\\frac{Weight(kg)}{Height(m)^2} = BMI$  \n",
        "\n",
        "Joey is 1.82 meters tall and weighs 78 kg. Create a variable for his height, weight, and BMI by combining the first two. \n"
      ]
    },
    {
      "cell_type": "code",
      "metadata": {
        "id": "HOf18kjSQjZM",
        "colab_type": "code",
        "colab": {}
      },
      "source": [
        "w = 78"
      ],
      "execution_count": 0,
      "outputs": []
    },
    {
      "cell_type": "code",
      "metadata": {
        "id": "T6JvSc7HeO1m",
        "colab_type": "code",
        "colab": {}
      },
      "source": [
        "h = 1.82"
      ],
      "execution_count": 0,
      "outputs": []
    },
    {
      "cell_type": "code",
      "metadata": {
        "id": "1GhqhjobepFM",
        "colab_type": "code",
        "colab": {}
      },
      "source": [
        "BMI = w / h"
      ],
      "execution_count": 0,
      "outputs": []
    },
    {
      "cell_type": "code",
      "metadata": {
        "id": "jZQIv7TMe_PB",
        "colab_type": "code",
        "colab": {
          "base_uri": "https://localhost:8080/",
          "height": 34
        },
        "outputId": "211d00c4-d783-4130-9ef4-4dddd9ec7494"
      },
      "source": [
        "BMI"
      ],
      "execution_count": 31,
      "outputs": [
        {
          "output_type": "execute_result",
          "data": {
            "text/plain": [
              "42.857142857142854"
            ]
          },
          "metadata": {
            "tags": []
          },
          "execution_count": 31
        }
      ]
    },
    {
      "cell_type": "markdown",
      "metadata": {
        "id": "SV0stA9BUSCn",
        "colab_type": "text"
      },
      "source": [
        "### 1.4 Now calculate Susie's BMI.\n",
        "Susie is 1.63 meters tall and weighs 59 kg. Calculate her BMI by changing the values of the variables you created for Joey. It's easier than creating all new variables, right?"
      ]
    },
    {
      "cell_type": "code",
      "metadata": {
        "id": "FgQ4LB12Uitn",
        "colab_type": "code",
        "colab": {}
      },
      "source": [
        "w = 59"
      ],
      "execution_count": 0,
      "outputs": []
    },
    {
      "cell_type": "code",
      "metadata": {
        "id": "vO62oBW5feH1",
        "colab_type": "code",
        "colab": {}
      },
      "source": [
        "h = 1.63"
      ],
      "execution_count": 0,
      "outputs": []
    },
    {
      "cell_type": "code",
      "metadata": {
        "id": "F0WD_lfIfkgF",
        "colab_type": "code",
        "colab": {}
      },
      "source": [
        "BMI = w / h"
      ],
      "execution_count": 0,
      "outputs": []
    },
    {
      "cell_type": "code",
      "metadata": {
        "id": "hJ6QvJtEfuEY",
        "colab_type": "code",
        "colab": {
          "base_uri": "https://localhost:8080/",
          "height": 34
        },
        "outputId": "bb6a0bd0-a43c-4314-bd29-6eb3998beef1"
      },
      "source": [
        "BMI"
      ],
      "execution_count": 35,
      "outputs": [
        {
          "output_type": "execute_result",
          "data": {
            "text/plain": [
              "36.19631901840491"
            ]
          },
          "metadata": {
            "tags": []
          },
          "execution_count": 35
        }
      ]
    },
    {
      "cell_type": "markdown",
      "metadata": {
        "id": "LvfErOpESot3",
        "colab_type": "text"
      },
      "source": [
        "## Part 2: Data Types"
      ]
    },
    {
      "cell_type": "markdown",
      "metadata": {
        "id": "u5SAr9vDSuCY",
        "colab_type": "text"
      },
      "source": [
        "### 2.1 What is the data type of the following variables?"
      ]
    },
    {
      "cell_type": "code",
      "metadata": {
        "id": "QWyELKj1Sssz",
        "colab_type": "code",
        "colab": {}
      },
      "source": [
        "a = -91\n",
        "b = 12.0222\n",
        "c = True\n",
        "d = \"Loosey goosey\""
      ],
      "execution_count": 0,
      "outputs": []
    },
    {
      "cell_type": "code",
      "metadata": {
        "id": "7EWJc_sogAWW",
        "colab_type": "code",
        "colab": {
          "base_uri": "https://localhost:8080/",
          "height": 34
        },
        "outputId": "5188c4ec-d637-45f3-8376-71e0cc81238e"
      },
      "source": [
        "type(a)"
      ],
      "execution_count": 42,
      "outputs": [
        {
          "output_type": "execute_result",
          "data": {
            "text/plain": [
              "int"
            ]
          },
          "metadata": {
            "tags": []
          },
          "execution_count": 42
        }
      ]
    },
    {
      "cell_type": "code",
      "metadata": {
        "id": "7_QyCaYAgbTR",
        "colab_type": "code",
        "colab": {
          "base_uri": "https://localhost:8080/",
          "height": 34
        },
        "outputId": "107776ce-eb59-4b9f-a9ce-d556c270001f"
      },
      "source": [
        "type(b)"
      ],
      "execution_count": 43,
      "outputs": [
        {
          "output_type": "execute_result",
          "data": {
            "text/plain": [
              "float"
            ]
          },
          "metadata": {
            "tags": []
          },
          "execution_count": 43
        }
      ]
    },
    {
      "cell_type": "code",
      "metadata": {
        "id": "2iAcKKNkgkvf",
        "colab_type": "code",
        "colab": {
          "base_uri": "https://localhost:8080/",
          "height": 34
        },
        "outputId": "72d4594f-7ae4-4eb7-871f-0294cd7217ca"
      },
      "source": [
        "type(c)"
      ],
      "execution_count": 44,
      "outputs": [
        {
          "output_type": "execute_result",
          "data": {
            "text/plain": [
              "bool"
            ]
          },
          "metadata": {
            "tags": []
          },
          "execution_count": 44
        }
      ]
    },
    {
      "cell_type": "code",
      "metadata": {
        "id": "CVBF96E6gqy9",
        "colab_type": "code",
        "colab": {
          "base_uri": "https://localhost:8080/",
          "height": 34
        },
        "outputId": "f6b3cee5-8a0f-44d7-d960-65d361edcd79"
      },
      "source": [
        "type(d)"
      ],
      "execution_count": 45,
      "outputs": [
        {
          "output_type": "execute_result",
          "data": {
            "text/plain": [
              "str"
            ]
          },
          "metadata": {
            "tags": []
          },
          "execution_count": 45
        }
      ]
    },
    {
      "cell_type": "markdown",
      "metadata": {
        "id": "hBIomZKgS9Qw",
        "colab_type": "text"
      },
      "source": [
        "### 2.2 How do strings behave differently than integers or floats?"
      ]
    },
    {
      "cell_type": "markdown",
      "metadata": {
        "id": "RT5d5gOoTFbV",
        "colab_type": "text"
      },
      "source": [
        "*Write your answer below this line*: \n",
        "\n",
        "---\n",
        "Strings are parts of phrases and intergers and floats are numbers.You can add numbers together to concatenate them but not numbers and strings because they have different values.\n"
      ]
    },
    {
      "cell_type": "markdown",
      "metadata": {
        "id": "tXH3HQGWTZ0-",
        "colab_type": "text"
      },
      "source": [
        "### 2.3 Create one variable holding a string and another variable holding a float. Concatenate the two together. "
      ]
    },
    {
      "cell_type": "code",
      "metadata": {
        "id": "Nt_aT0C3S7Yz",
        "colab_type": "code",
        "colab": {}
      },
      "source": [
        "x = ' I like my milk to be '"
      ],
      "execution_count": 0,
      "outputs": []
    },
    {
      "cell_type": "code",
      "metadata": {
        "id": "Q6fe2fZwjyDm",
        "colab_type": "code",
        "colab": {}
      },
      "source": [
        "y = 8.9"
      ],
      "execution_count": 0,
      "outputs": []
    },
    {
      "cell_type": "code",
      "metadata": {
        "id": "u7d3tQ-oj5cg",
        "colab_type": "code",
        "colab": {
          "base_uri": "https://localhost:8080/",
          "height": 34
        },
        "outputId": "2a0d550f-692b-4fb1-ae97-08f464360bfe"
      },
      "source": [
        "x + str(y)"
      ],
      "execution_count": 50,
      "outputs": [
        {
          "output_type": "execute_result",
          "data": {
            "text/plain": [
              "' I like my milk to be 8.9'"
            ]
          },
          "metadata": {
            "tags": []
          },
          "execution_count": 50
        }
      ]
    },
    {
      "cell_type": "markdown",
      "metadata": {
        "id": "qVG_ZZyfTjyB",
        "colab_type": "text"
      },
      "source": [
        "### Submit your assignment notebook! (Make sure you've changed the name to FIRSTNAME_LASTNAME_1_2): \n",
        "\n",
        "1.  Click the Share button in the upper-right hand corner of the notebook.\n",
        "2.  Get shareable link\n",
        "3.  Set condition to: \"Anyone with the link can comment\"\n",
        "4.  TBD \n",
        "\n",
        "\n"
      ]
    },
    {
      "cell_type": "code",
      "metadata": {
        "id": "dx15vsg9UNcj",
        "colab_type": "code",
        "colab": {}
      },
      "source": [
        ""
      ],
      "execution_count": 0,
      "outputs": []
    }
  ]
}